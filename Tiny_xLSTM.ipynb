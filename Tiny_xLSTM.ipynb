{
 "cells": [
  {
   "cell_type": "code",
   "execution_count": null,
   "id": "528902fc",
   "metadata": {},
   "outputs": [],
   "source": [
    "#Install Pytorch and tensorboard\n",
    "'''\n",
    "import sys\n",
    "!{sys.executable} -m pip install torch==2.2.2+cu118 torchvision==0.17.2+cu118 torchaudio==2.2.2+cu118 --index-url https://download.pytorch.org/whl/cu118\n",
    "!{sys.executable} -m pip install tensorboard==2.9.1\n",
    "'''\n",
    "#Install torch and torchvision\n",
    "'''\n",
    "import torch\n",
    "import torchvision\n",
    "print(f\"PyTorch version Installed: {torch.__version__}\\nTorchvision version Installed: {torchvision.__version__}\\n\")\n",
    "if not torch.__version__.startswith(\"2.2\"):\n",
    "    print(\"you are using an another version of PyTorch. We expect PyTorch 2.2. You may continue using your version but it\"\n",
    "          \" might cause dependency and compatibility issues.\")\n",
    "if not torchvision.__version__.startswith(\"0.17\"):\n",
    "    print(\"you are using an another version of torchvision. We expect torchvision 0.17. You can continue with your version but it\"\n",
    "          \" might cause dependency and compatibility issues.\")\n",
    "'''"
   ]
  },
  {
   "cell_type": "code",
   "execution_count": 2,
   "id": "025f9ba1",
   "metadata": {},
   "outputs": [],
   "source": [
    "#Important imports\n",
    "import sys\n",
    "import torch\n",
    "import torchvision\n",
    "import tensorboard\n",
    "import numpy as np\n",
    "import random\n",
    "import matplotlib.pyplot as plt\n",
    "import torchvision.transforms as transforms\n",
    "from torch.utils.data.sampler import SubsetRandomSampler\n",
    "from torch.utils.tensorboard import SummaryWriter\n",
    "from torch.optim.lr_scheduler import CosineAnnealingLR, ReduceLROnPlateau\n",
    "\n",
    "import torch.nn as nn\n",
    "import torch.nn.functional as F\n",
    "\n",
    "import os\n",
    "import requests\n",
    "import pandas as pd\n",
    "import time\n",
    "\n",
    "pd.options.mode.chained_assignment = None  # default='warn'\n",
    "\n",
    "%load_ext autoreload\n",
    "%autoreload 2\n",
    "%matplotlib inline\n",
    "\n",
    "os.environ['KMP_DUPLICATE_LIB_OK']='True' # To prevent the kernel from dying."
   ]
  },
  {
   "cell_type": "code",
   "execution_count": 3,
   "id": "39204a11",
   "metadata": {},
   "outputs": [
    {
     "name": "stdout",
     "output_type": "stream",
     "text": [
      "Downloading full Shakespeare from Project Gutenberg...\n",
      "Full Shakespeare downloaded! File size: 5359388 characters\n"
     ]
    }
   ],
   "source": [
    "#Download dataset tiny shakespeare\n",
    "'''data_path = \"data/tiny_shakespeare.txt\"\n",
    "if os.path.exists(data_path):\n",
    "    print(f\"'{data_path}' already exists, skipping download.\")\n",
    "else:\n",
    "    url = \"https://raw.githubusercontent.com/karpathy/char-rnn/master/data/tinyshakespeare/input.txt\"\n",
    "    text = requests.get(url).text\n",
    "    with open(\"data/tiny_shakespeare.txt\", \"w\", encoding=\"utf-8\") as f:\n",
    "        f.write(text)\n",
    "    print(\"Tiny Shakespeare downloaded! File size:\", len(text), \"characters\")'''\n",
    "\n",
    "#Download dataset full shakespeare\n",
    "data_path = \"data/full_shakespeare.txt\"\n",
    "if os.path.exists(data_path):\n",
    "    print(f\"'{data_path}' already exists, skipping download.\")\n",
    "else:\n",
    "    os.makedirs(\"data\", exist_ok=True)\n",
    "    url = \"https://www.gutenberg.org/files/100/100-0.txt\"\n",
    "    print(\"Downloading full Shakespeare from Project Gutenberg...\")\n",
    "    text = requests.get(url).text\n",
    "\n",
    "    # Keep only the text\n",
    "    if \"*** START\" in text:\n",
    "        text = text.split(\"*** START\")[1]\n",
    "    if \"*** END\" in text:\n",
    "        text = text.split(\"*** END\")[0]\n",
    "\n",
    "    with open(data_path, \"w\", encoding=\"utf-8\") as f:\n",
    "        f.write(text)\n",
    "    print(\"Full Shakespeare downloaded! File size:\", len(text), \"characters\")"
   ]
  }
 ],
 "metadata": {
  "kernelspec": {
   "display_name": "Project_GenAI",
   "language": "python",
   "name": "python3"
  },
  "language_info": {
   "codemirror_mode": {
    "name": "ipython",
    "version": 3
   },
   "file_extension": ".py",
   "mimetype": "text/x-python",
   "name": "python",
   "nbconvert_exporter": "python",
   "pygments_lexer": "ipython3",
   "version": "3.11.13"
  }
 },
 "nbformat": 4,
 "nbformat_minor": 5
}
